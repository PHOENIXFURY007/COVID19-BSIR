{
 "cells": [
  {
   "cell_type": "markdown",
   "metadata": {},
   "source": [
    "# Value Iterations for Optimal Lockdown"
   ]
  },
  {
   "cell_type": "markdown",
   "metadata": {},
   "source": [
    "#### Imports"
   ]
  },
  {
   "cell_type": "code",
   "execution_count": null,
   "metadata": {},
   "outputs": [],
   "source": [
    "import numpy as np\n",
    "import matplotlib.pyplot as plt\n",
    "from matplotlib import rc\n",
    "from scipy.interpolate import RegularGridInterpolator\n",
    "from scipy.optimize import minimize\n",
    "\n",
    "%matplotlib notebook"
   ]
  },
  {
   "cell_type": "markdown",
   "metadata": {},
   "source": [
    "#### Parameter Assignments \n",
    "Set at default settings, can be adjusted to fit a different situation"
   ]
  },
  {
   "cell_type": "code",
   "execution_count": null,
   "metadata": {},
   "outputs": [],
   "source": [
    "dt = 1                      # change in time (one day)\n",
    "gamma = 1.0/18              # recovery/death rate for group\n",
    "theta = 0.75                # level of obedience\n",
    "L_max = np.array([0.7,1])   # max amount of lockdown possible\n",
    "M = 2                       # number of groups\n",
    "p = 1                       # \"immunity passport\" flag, 1 = no passport, 0 = passport\n",
    "\n",
    "herd_threshold = 0.6        # threshold for herd immunity\n",
    "\n",
    "P = np.array([0.818, 0.182])     # population of each group\n",
    "w = np.array([1,0])              # productivity in normal times\n",
    "career = np.array([20*365, 0])   # length of remaining career, on avg.\n",
    "\n",
    "ir = 0.00001/365                 # daily interest rate\n",
    "chi = np.ones(2) * 10          # non-pecuniary value of life\n",
    "\n",
    "ICU_max = 0.0003                # ICU capacity (based on 30 beds/100,000 people)\n",
    "iota = np.array([0.02586, 0.074])   # percentage of infected that are sent to ICU\n",
    "\n",
    "nu = 0.667/365   # probability of vaccine/cure arrival (expected arrival 1.5 years)\n",
    "beta_0 = 0.2     # initial rate of viral transmission\n",
    "rho_0 = 0.75     # level of inter-group interaction\n",
    "\n",
    "alpha_I = 1         # if everyone infected, can reduce transmission to e^(-alpha_I)\n",
    "wfh = 0.40          # percent of employees able to work from home\n",
    "alpha_L = 0.00001   # indirect deaths by lockdown level (75000 + 30000)/325 million/100\n",
    "alpha_E = 0.42      # employment loss\n",
    "eta = 10000         # penalty for exceeding ICU capacity\n",
    "F = 1               # constant for future deaths due to missed health screenings, only part of financial calculations"
   ]
  },
  {
   "cell_type": "markdown",
   "metadata": {},
   "source": [
    "### Setting up the Value Iteration Framework"
   ]
  },
  {
   "cell_type": "markdown",
   "metadata": {},
   "source": [
    "We want to maximize the objective function (denoted `g`) over the interval `[0, L_max]`\n",
    "\n",
    "Returns the minimum value and the minimizer."
   ]
  },
  {
   "cell_type": "code",
   "execution_count": null,
   "metadata": {},
   "outputs": [],
   "source": [
    "def minimize_wrap(g, bds, args):\n",
    "\n",
    "    objective = lambda x: g(x, *args)\n",
    "    result = minimize(objective, np.array([0,1]), method='L-BFGS-B', jac = None, bounds=bds)\n",
    "    minimizer, minimum = result.x, result.fun\n",
    "    return minimizer, minimum"
   ]
  },
  {
   "cell_type": "markdown",
   "metadata": {},
   "source": [
    "Next we set up the class `Model` which holds the actual function to be maximized, `obj-func`, and the grids for the susceptible and infected populations"
   ]
  },
  {
   "cell_type": "code",
   "execution_count": null,
   "metadata": {},
   "outputs": [],
   "source": [
    "class Model:\n",
    "\n",
    "    def __init__(self,\n",
    "                 u,             # utility function\n",
    "                 f,             # production function\n",
    "                 grid_size     # number of grid points\n",
    "                 ):\n",
    "\n",
    "        self.u, self.f = u, f\n",
    "\n",
    "        # Set up grid\n",
    "        self.gridS = np.linspace(1e-4, 1, grid_size)\n",
    "        self.gridI = np.linspace(1e-4, 0.5, grid_size)\n",
    "\n",
    "\n",
    "    def obj_func(self, c, y, v_array):\n",
    "\n",
    "        u, f = self.u, self.f\n",
    "\n",
    "        v = RegularGridInterpolator((self.gridS, self.gridS, self.gridI, self.gridI), v_array, method = 'linear')\n",
    "        (s0, i0, r0, d0) = f(c, y)\n",
    "        value = u(c,y)*dt + np.exp(-(nu+ir)*dt) * v(np.concatenate((s0, i0)))\n",
    "\n",
    "        return value\n"
   ]
  },
  {
   "cell_type": "markdown",
   "metadata": {},
   "source": [
    "`T(v, og)` updates the guess of the value function and computes the optimal lockdown policy  \n",
    "  - `og` is an instance of Model (the class holding the optimization info)\n",
    "  - `v` is an array representing the current guess of the value function\n",
    "  \n",
    " It returns an updated guess for the value function"
   ]
  },
  {
   "cell_type": "code",
   "execution_count": null,
   "metadata": {},
   "outputs": [],
   "source": [
    "def T(v, og):\n",
    "\n",
    "    v_new = np.empty_like(v)\n",
    "    v_greedy = np.zeros((N, N, N, N, 2))\n",
    "\n",
    "    bds = [(1e-4, L_max[0]), (1e-4, L_max[1])]\n",
    "\n",
    "    sy,so,iy,io = 0,0,0,0\n",
    "\n",
    "    for i in range(len(og.gridS)):\n",
    "        for j in range(len(og.gridS)):\n",
    "            for k in range(len(og.gridI)):\n",
    "                for l in range(len(og.gridI)):\n",
    "                    bellman = np.array([[og.gridS[i], og.gridS[j]],[og.gridI[k], og.gridI[l]]])\n",
    "                    b2 = np.sum(bellman, axis = 0)\n",
    "                    if(b2[0] <= (P[0] + 0.02) and b2[1] <= (P[1] + 0.02)):\n",
    "                        if(np.sum(bellman) >= (1 - herd_threshold)):\n",
    "                            c_star, v_max = minimize_wrap(og.obj_func, bds, (bellman, v))\n",
    "                            v_greedy[i][j][k][l] = c_star\n",
    "                            v_new[i][j][k][l] = v_max\n",
    "                            sy,so,iy,io = i, j, k, l\n",
    "                        else:\n",
    "                            v_greedy[i][j][k][l] = np.zeros(2)\n",
    "                            v_new[i][j][k][l] = 0\n",
    "\n",
    "                    else: # exterior, set to same value as boundary\n",
    "                        v_new[i][j][k][l] = v_new[sy][so][iy][io]\n",
    "                        v_greedy[i][j][k][l] = v_greedy[sy][so][iy][io]\n",
    "\n",
    "    return v_greedy, v_new"
   ]
  },
  {
   "cell_type": "markdown",
   "metadata": {},
   "source": [
    "Solve model by iterating using `T`, the contraction mapping function, such that output eventually converges to the true value function\n",
    "- `og` is the Model instance\n",
    "- `v0` is the initial guess of the value function\n",
    "- `max_iter` is the maximum allowable number of iterations (the algorithm will terminate when it reaches this number of iterations, regardless of whether the iterations have converged)\n",
    "- `tol` is the tolerance, or the maximum level of L-infinity error that will be accepted in a \"converged\" result"
   ]
  },
  {
   "cell_type": "code",
   "execution_count": null,
   "metadata": {},
   "outputs": [],
   "source": [
    "def solve_model(og,v0,max_iter,tol=1e-3,verbose=True,print_skip=5):\n",
    "\n",
    "    v = v0\n",
    "    iter = 0\n",
    "    error = tol + 1\n",
    "\n",
    "    while iter < max_iter and error > tol:\n",
    "        v_greedy, v_new = T(v, og)\n",
    "        error = np.max(np.abs(v - v_new))\n",
    "        if verbose and iter % print_skip == 0:\n",
    "            print(f\"Error at iteration {iter} is {error}.\")\n",
    "        v = v_new\n",
    "        iter += 1\n",
    "\n",
    "    if iter == max_iter:\n",
    "        print(f\"Error at iteration {iter} is {error}.\")\n",
    "        print(\"Failed to converge!\")\n",
    "\n",
    "    if verbose and iter < max_iter:\n",
    "        print(f\"\\nConverged in {iter} iterations.\")\n",
    "\n",
    "    return v_greedy, v_new"
   ]
  },
  {
   "cell_type": "markdown",
   "metadata": {},
   "source": [
    "### Setting up the SIR Model"
   ]
  },
  {
   "cell_type": "markdown",
   "metadata": {},
   "source": [
    "#### Helper Functions"
   ]
  },
  {
   "cell_type": "markdown",
   "metadata": {},
   "source": [
    "`indir()` accepts L_curr, the assigned lockdown level, and returns the death rate caused indirectly by the lockdown level"
   ]
  },
  {
   "cell_type": "code",
   "execution_count": null,
   "metadata": {},
   "outputs": [],
   "source": [
    "def indir(L_curr):\n",
    "    return alpha_L * L_curr"
   ]
  },
  {
   "cell_type": "markdown",
   "metadata": {},
   "source": [
    "`empl()` accepts L_e, the assigned lockdown level, and returns the rate of future unemployment"
   ]
  },
  {
   "cell_type": "code",
   "execution_count": null,
   "metadata": {},
   "outputs": [],
   "source": [
    "def empl(L_e):\n",
    "    return alpha_E * w * L_e"
   ]
  },
  {
   "cell_type": "markdown",
   "metadata": {},
   "source": [
    "`ICU()` accepts I_i, the array of current infection levels, and returns the penalty incurred if number of ICU patients corresponding to this level exceeds the ICU capacity (ICU_max)"
   ]
  },
  {
   "cell_type": "code",
   "execution_count": null,
   "metadata": {},
   "outputs": [],
   "source": [
    "def ICU(I_i):\n",
    "    ICU_curr = np.sum(I_i * iota)\n",
    "    return np.maximum(0, (ICU_curr - ICU_max) * eta)\n",
    "    #return (ICU_curr - ICU_max) * eta"
   ]
  },
  {
   "cell_type": "markdown",
   "metadata": {},
   "source": [
    "`phi()` accepts I_i, the array of current infection levels, and returns the death rate for each group based on the total number of currently infected individuals"
   ]
  },
  {
   "cell_type": "code",
   "execution_count": null,
   "metadata": {},
   "outputs": [],
   "source": [
    "def phi(I_p):\n",
    "    I_total = np.sum(I_p)\n",
    "    \n",
    "    #values based on CDC data\n",
    "    a = np.array([0.000634*gamma, 0.00845*gamma])\n",
    "    b = np.array([0.00845*gamma, 0.1127*gamma])\n",
    "    \n",
    "    #values used for comparison with Acemoglu and Alvarez\n",
    "    #a = np.array([0.01*gamma, 0.06*gamma]) \n",
    "    #b = np.array([0.06*gamma, 0.1*gamma])\n",
    "    \n",
    "    return a + b * I_total"
   ]
  },
  {
   "cell_type": "markdown",
   "metadata": {},
   "source": [
    "`betaBSIR()` accepts I_i, the array of current infection levels, and returns the corresponding level of infection transmission (higher infection levels = people are more careful = less transmission)"
   ]
  },
  {
   "cell_type": "code",
   "execution_count": null,
   "metadata": {},
   "outputs": [],
   "source": [
    "def betaBSIR(I_b):\n",
    "    beta = beta_0*np.exp(-alpha_I*np.sum(I_b))\n",
    "    rho = np.array([[1,rho_0],[rho_0,1]])\n",
    "    return beta*rho"
   ]
  },
  {
   "cell_type": "markdown",
   "metadata": {},
   "source": [
    "`output()` calculates the output loss caused by people staying at home and not working (as opposed to the welfare cost represented by the objective function)"
   ]
  },
  {
   "cell_type": "code",
   "execution_count": null,
   "metadata": {},
   "outputs": [],
   "source": [
    "def output(L_g, state):\n",
    "    #state = [[S_y, S_o],[I_y, I_o]] 2x2 matrix\n",
    "\n",
    "    S_g = state[0]  #length 2 array\n",
    "    I_g = state[1] #length 2 array\n",
    "    R_g = P - (S_g + I_g) #length 2 arrays\n",
    "\n",
    "    if(np.sum(I_g) == 0):\n",
    "        g = 0\n",
    "    else:\n",
    "        g = np.sum(w*L_g*(1 - wfh)*(S_g + I_g + p * R_g)) #lost salary\n",
    "\n",
    "    return g"
   ]
  },
  {
   "cell_type": "markdown",
   "metadata": {},
   "source": [
    "#### SIR dynamics"
   ]
  },
  {
   "cell_type": "code",
   "execution_count": null,
   "metadata": {},
   "outputs": [],
   "source": [
    "def dynamics(L_d, state):\n",
    "# population levels are in absolute terms (i.e. S_y = 0.2 => 20% of ENTIRE pop)\n",
    "#state = [[S_y, S_o],[I_y, I_o]] 2x2 matrix\n",
    "\n",
    "    R_d = P - np.sum(state, axis = 0) #2D array\n",
    "    S_d = state[0] #length 2 array\n",
    "    I_d = state[1] #length 2 array\n",
    "\n",
    "    beta = betaBSIR(I_d)\n",
    "    deathRate = phi(I_d)    #length 2 array\n",
    "    indirDeath = indir(L_d) #scalar\n",
    "    recoveryRate = gamma*np.ones(M) - deathRate #length 2 array\n",
    "\n",
    "    sum_I = np.dot(beta,((1 - theta*L_d)*I_d)) #length 2 array\n",
    "\n",
    "    # should all be length 2 arrays\n",
    "    dI = sum_I * (1 - theta * L_d) * S_d - gamma * I_d\n",
    "    dS = -dI - gamma * I_d - indirDeath * S_d\n",
    "    dR = recoveryRate * I_d - indirDeath * R_d\n",
    "    dD = deathRate * I_d + indirDeath * (S_d + R_d)\n",
    "\n",
    "    D_new = dt*dD\n",
    "    D_new = np.minimum(D_new, 1.0)\n",
    "    D_new = np.maximum(D_new, 0)\n",
    "\n",
    "    S_new = (S_d + dt*dS)/(1 - D_new)\n",
    "    S_new = np.minimum(S_new, 1.0)\n",
    "    S_new = np.maximum(S_new, 1e-4+1e-5)\n",
    "\n",
    "    I_new = (I_d + dt*dI)/(1 - D_new)\n",
    "    I_new = np.minimum(I_new, 0.5)\n",
    "    I_new = np.maximum(I_new, 1e-4+1e-5)\n",
    "\n",
    "    R_new = (R_d + dt*dR)/(1 - D_new)\n",
    "    R_new = np.minimum(R_new, 1.0)\n",
    "    R_new = np.maximum(R_new, 1e-4+1e-5)\n",
    "\n",
    "    return (S_new, I_new, R_new, D_new)"
   ]
  },
  {
   "cell_type": "markdown",
   "metadata": {},
   "source": [
    "### Social/Welfare Cost Function"
   ]
  },
  {
   "cell_type": "code",
   "execution_count": null,
   "metadata": {},
   "outputs": [],
   "source": [
    "def cost(L_c, state):\n",
    "    #state = [[S_y, S_o],[I_y, I_o]] 2x2 matrix\n",
    "\n",
    "    S_c = state[0]  #length 2 array\n",
    "    I_c = state[1] #length 2 array\n",
    "    R_c = P - (S_c + I_c) #length 2 arrays\n",
    "\n",
    "    if(np.sum(I_c) == 0):\n",
    "        cost = 0\n",
    "    else:\n",
    "        cost = np.sum(w*L_c*(1 - wfh)*(S_c + I_c + p * R_c) #lost salary\n",
    "        + ((chi + w)/ir * (1 - np.exp(-ir*career))) * phi(I_c) * I_c #COVID deaths\n",
    "        + (w/ir * (1 - np.exp(-ir*career))) * indir(L_c) * (F + S_c + R_c) #non-COVID deaths\n",
    "        + empl(L_c)*(S_c + R_c))  #future unemployment costs\n",
    "        + ICU(I_c) #cost of exceeding ICU capacity\n",
    "\n",
    "    return cost #scalar"
   ]
  },
  {
   "cell_type": "markdown",
   "metadata": {},
   "source": [
    "## Running the Optimization\n",
    "This is the main part that executes the optimization. Here the maximum number of iterations is set to 40, which doesn't achieve convergence but does strike a decent balance between computation time and image quality."
   ]
  },
  {
   "cell_type": "code",
   "execution_count": null,
   "metadata": {},
   "outputs": [],
   "source": [
    "N = 15 # Number of gridpoints in each direction of state space grid\n",
    "it = 40 # Maximum number of iterations before exiting, regardless of convergence\n",
    "\n",
    "og = Model(u=cost, f=dynamics, grid_size = N)\n",
    "\n",
    "gridS = og.gridS\n",
    "gridI = og.gridI\n",
    "\n",
    "# An initial condition, just set value function to 0\n",
    "v = np.zeros((len(gridS), len(gridS), len(gridI), len(gridI))) #[S_young][S_old][I_young][I_old]\n",
    "\n",
    "v_greedy, v_solution = solve_model(og, v, max_iter = it)"
   ]
  },
  {
   "cell_type": "markdown",
   "metadata": {},
   "source": [
    "### Plotting a Trajectory"
   ]
  },
  {
   "cell_type": "markdown",
   "metadata": {},
   "source": [
    "Set population initial conditions:   \n",
    "(Initial conditions are set to be uniform across groups in the default case, but this is not required. However, note that for each population the proportions should always add up to 1.)"
   ]
  },
  {
   "cell_type": "code",
   "execution_count": null,
   "metadata": {},
   "outputs": [],
   "source": [
    "S_0 = 0.98 * np.ones(2) #initial susceptible\n",
    "I_0 = 0.01 * np.ones(2) #initial infected\n",
    "R_0 = 0.01 * np.ones(2) #initial recoverd\n",
    "D_0 = 0 * np.ones(2) #initial death"
   ]
  },
  {
   "cell_type": "code",
   "execution_count": null,
   "metadata": {},
   "outputs": [],
   "source": [
    "pt = dynamics(np.zeros(2), np.array([[0.14958185, 0.12191461],[6.09801051e-04, 1.00000000e-04]]))\n",
    "print(pt)"
   ]
  },
  {
   "cell_type": "markdown",
   "metadata": {},
   "source": [
    "Run dynamics"
   ]
  },
  {
   "cell_type": "code",
   "execution_count": null,
   "metadata": {},
   "outputs": [],
   "source": [
    "T_N = 500  #number of days in trajectory\n",
    "P = np.array([0.818, 0.182])\n",
    "\n",
    "D = np.zeros((T_N,M))      #dead, [day][group]\n",
    "S = np.zeros((T_N,M))      #susceptible, [day][group]\n",
    "I = np.zeros((T_N,M))      #infected, [day][group]\n",
    "R = np.zeros((T_N,M))      #recovered, [day][group]\n",
    "L_opt = np.zeros((T_N,M))  #optimal policy, [day][group]\n",
    "D_cov = np.zeros((T_N,M))  #deaths due to COVID-19 only, [day][group]\n",
    "\n",
    "#uncontrolled (base) arrays\n",
    "S_base = np.zeros((T_N,M))\n",
    "I_base = np.zeros((T_N,M))\n",
    "R_base = np.zeros((T_N,M))\n",
    "D_base = np.zeros((T_N,M))\n",
    "\n",
    "#initialize arrays\n",
    "S[0] = S_0\n",
    "I[0] = I_0\n",
    "R[0] = R_0\n",
    "D[0] = D_0\n",
    "D_cov[0] = D_0\n",
    "\n",
    "S_base[0] = S_0\n",
    "I_base[0] = I_0\n",
    "R_base[0] = R_0\n",
    "D_base[0] = D_0\n",
    "\n",
    "#set up interpolation function for optimal lockdown policy\n",
    "interpControl = RegularGridInterpolator((gridS, gridS, gridI, gridI), v_greedy, method='linear', bounds_error=True)\n",
    "\n",
    "#store herd immunity arrival times\n",
    "herd = -1\n",
    "herd_base = -1 \n",
    "\n",
    "op = 0           #keep track of output loss\n",
    "\n",
    "l_base = np.zeros(2)  #uncontrolled case - lockdown always 0\n",
    "\n",
    "#execute dynamics\n",
    "for t in range(T_N-1):\n",
    "    s_curr = S[t]*P\n",
    "    i_curr = I[t]*P\n",
    "    r_curr = R[t]*P\n",
    "    d_curr = D[t]*P\n",
    "\n",
    "    if (herd < 0 and np.sum(r_curr) >= herd_threshold):\n",
    "        herd = t #marks the arrival of herd immunity\n",
    "\n",
    "    try:\n",
    "        if (herd > 0): \n",
    "            L_opt[t] = 0 #already reached herd immunity (helps prevent numerical diffusion)\n",
    "        else:\n",
    "            L_opt[t] = interpControl(np.concatenate((s_curr, i_curr))) #get optimal control\n",
    "    except ValueError :\n",
    "        print(s_curr)\n",
    "        print(i_curr)\n",
    "        print(f\"ValueError at control interpolation, t = {t}\")\n",
    "\n",
    "    l_curr = L_opt[t]\n",
    "\n",
    "    op += np.exp(-(nu+ir)*t) * output(l_curr, [s_curr, i_curr]) * dt\n",
    "\n",
    "    (S_new, I_new, R_new, D_new) = dynamics(l_curr, [s_curr, i_curr])\n",
    "\n",
    "    I[t+1] = I_new/P\n",
    "    S[t+1] = S_new/P\n",
    "    D[t+1] = D_new/P + D[t]\n",
    "    R[t+1] = R_new/P\n",
    "    D_cov[t+1] = D_cov[t] + dt*phi(i_curr)*i_curr/P\n",
    "    \n",
    "    # Dynamics for uncontrolled case\n",
    "    s_b = S_base[t]*P\n",
    "    i_b = I_base[t]*P\n",
    "    r_b = R_base[t]*P\n",
    "    d_b = D_base[t]*P\n",
    "\n",
    "    if (herd_base < 0 and np.sum(r_b) >= herd_threshold):\n",
    "        herd_base = t\n",
    "\n",
    "    (S_2, I_2, R_2, D_2) = dynamics(l_base, [s_b, i_b])\n",
    "    S_base[t+1] = S_2/P\n",
    "    I_base[t+1] = I_2/P\n",
    "    R_base[t+1] = R_2/P\n",
    "    D_base[t+1] = D_2/P + D_base[t]\n",
    "\n",
    "#manually calculate last step's optimal policy\n",
    "s_curr = S[T_N -1]*P\n",
    "i_curr = I[T_N -1]*P\n",
    "r_curr = R[T_N -1]*P\n",
    "d_curr = D[T_N -1]*P\n",
    "\n",
    "if (herd < 0 and np.sum(r_curr) >= herd_threshold):\n",
    "    herd = T_N -1 #marks the arrival of herd immunity\n",
    "\n",
    "try:\n",
    "    if (herd > 0): \n",
    "        L_opt[T_N -1] = 0 #already reached herd immunity (helps prevent numerical diffusion)\n",
    "    else:\n",
    "        L_opt[T_N -1] = interpControl(np.concatenate((s_curr, i_curr))) #get optimal control\n",
    "except ValueError :\n",
    "    print(s_curr)\n",
    "    print(i_curr)\n",
    "    print(f\"ValueError at control interpolation, t = {T_N -1}\")"
   ]
  },
  {
   "cell_type": "markdown",
   "metadata": {},
   "source": [
    "### Calculations"
   ]
  },
  {
   "cell_type": "code",
   "execution_count": null,
   "metadata": {},
   "outputs": [],
   "source": [
    "total_output = np.sum(P * w)/(ir + nu) # number of days considered * normalized output per day with no lockdown\n",
    "\n",
    "op = op/total_output * 100 #represent output loss as percent of total potential output \n",
    "\n",
    "deaths = D[T_N - 1]*P #final total death count\n",
    "deaths_base = D_base[T_N - 1]*P\n",
    "deaths_cov = D_cov[T_N - 1]*P #final COVID-19 death count\n",
    "\n",
    "#Aggregate data for optimal lockdown\n",
    "D_tot = np.sum(D*P, axis = 1)\n",
    "I_tot = np.sum(I*P, axis = 1)\n",
    "\n",
    "#Aggregate data for uncontrolled case\n",
    "DB_tot = np.sum(D_base*P, axis = 1)\n",
    "IB_tot = np.sum(I_base*P, axis = 1)\n",
    "\n",
    "D = np.transpose(D)    #[group][day]               \n",
    "S = np.transpose(S)    #[group][day]                    \n",
    "I = np.transpose(I)    #[group][day]                      \n",
    "R = np.transpose(R)    #[group][day]                      \n",
    "L_opt = np.transpose(L_opt)    #[group][day]        \n",
    "D_cov = np.transpose(D_cov)    #[group][day]  \n",
    "\n",
    "S_base = np.transpose(S_base)\n",
    "I_base = np.transpose(I_base)\n",
    "R_base = np.transpose(R_base)\n",
    "D_base = np.transpose(D_base)\n",
    "\n",
    "#length of lockdown for those aged 20-64\n",
    "y_lockdown = L_opt[0][L_opt[0] > 1e-4]\n",
    "avg_y = np.sum(y_lockdown)/len(y_lockdown)\n",
    "len_y = len(y_lockdown)\n",
    "\n",
    "#length of lockdown for those aged 65+\n",
    "o_lockdown = L_opt[1][L_opt[1] > 1e-4]\n",
    "avg_o = np.sum(o_lockdown)/len(o_lockdown)\n",
    "len_o = len(o_lockdown)"
   ]
  },
  {
   "cell_type": "markdown",
   "metadata": {},
   "source": [
    "### Plotting"
   ]
  },
  {
   "cell_type": "code",
   "execution_count": null,
   "metadata": {},
   "outputs": [],
   "source": [
    "rc('text', usetex=True)\n",
    "#plt.rcParams[\"figure.figsize\"] = (20,10)\n",
    "from IPython.display import display, Markdown\n",
    "\n",
    "x = np.linspace(0, T_N*dt, T_N)"
   ]
  },
  {
   "cell_type": "markdown",
   "metadata": {},
   "source": [
    "Optimal Lockdown Policy for given initial conditions"
   ]
  },
  {
   "cell_type": "code",
   "execution_count": null,
   "metadata": {},
   "outputs": [],
   "source": [
    "fig1, axs1 = plt.subplots()\n",
    "\n",
    "L_y = axs1.plot(x,L_opt[0],marker ='', ls = 'solid', color = 'darkblue', label = 'Lockdown, 20-64')\n",
    "L_o = axs1.plot(x,L_opt[1],marker ='', ls = 'dashed', color = 'darkblue', label = 'Lockdown, 65+')\n",
    "if(herd>0):\n",
    "    axs1.vlines(x=herd, ymin=0, ymax=1, color='c', linestyle='-', label = 'Herd Immunity')\n",
    "axs1.set_xlabel('Time')\n",
    "axs1.set_ylabel('Lockdown Rate')\n",
    "axs1.set_title('Lockdown Policy')\n",
    "axs1.legend(loc = 'best')\n",
    "\n",
    "plt.show()"
   ]
  },
  {
   "cell_type": "markdown",
   "metadata": {},
   "source": [
    "Population dynamics for given optimal policy:"
   ]
  },
  {
   "cell_type": "code",
   "execution_count": null,
   "metadata": {
    "scrolled": false
   },
   "outputs": [],
   "source": [
    "fig2, axs2 = plt.subplots()\n",
    "\n",
    "I_y = axs2.plot(x,I[0],marker ='', ls = 'solid', color = 'red', label = 'Infected, 20-64')\n",
    "S_y = axs2.plot(x,S[0],marker ='',  ls = 'solid', color = 'blue', label = 'Susceptible, 20-64')\n",
    "R_y = axs2.plot(x,R[0],marker ='', ls = 'solid', color = 'green', label = 'Recovered, 20-64')\n",
    "D_y = axs2.plot(x,D[0],marker ='', ls = 'solid', color = 'black', label = 'Dead, 20-64')\n",
    "\n",
    "I_o = axs2.plot(x,I[1],marker ='', ls = 'dashed', color = 'red', label = 'Infected, 65+')\n",
    "S_o = axs2.plot(x,S[1],marker ='',  ls = 'dashed', color = 'blue', label = 'Susceptible, 65+')\n",
    "R_o = axs2.plot(x,R[1],marker ='', ls = 'dashed', color = 'green', label = 'Recovered, 65+')\n",
    "D_o = axs2.plot(x,D[1],marker ='', ls = 'dashed', color = 'black', label = 'Dead, 65+')\n",
    "\n",
    "if(herd>0):\n",
    "    axs2.vlines(x=herd, ymin=0, ymax=1, color='c', linestyle='-', label = 'Herd Immunity')\n",
    "axs2.set_xlabel('Time')\n",
    "axs2.set_ylabel('Proportion of Group')\n",
    "axs2.set_title('Population Dynamics')\n",
    "axs2.legend(loc='best')\n",
    "\n",
    "plt.show()"
   ]
  },
  {
   "cell_type": "markdown",
   "metadata": {},
   "source": [
    "A closer look at number of deaths:"
   ]
  },
  {
   "cell_type": "code",
   "execution_count": null,
   "metadata": {},
   "outputs": [],
   "source": [
    "fig3, axs3 = plt.subplots()\n",
    "\n",
    "D_y = axs3.plot(x,D[0],marker ='', ls = 'solid', color = 'black', label = 'Dead, 20-64')\n",
    "D_o = axs3.plot(x,D[1],marker ='', ls = 'dashed', color = 'black', label = 'Dead, 65+')\n",
    "C_y = axs3.plot(x,D_cov[0],marker ='', ls = 'solid', color = 'grey', label = 'COVID, 20-64')\n",
    "C_o = axs3.plot(x,D_cov[1],marker ='', ls = 'dashed', color = 'grey', label = 'COVID, 65+')\n",
    "\n",
    "if(herd>0):\n",
    "    axs3.vlines(x=herd, ymin=0, ymax=np.max(D[1]), color='c', linestyle='-', label = 'Herd Immunity')\n",
    "axs3.set_xlabel('Time')\n",
    "axs3.set_ylabel('Proportion of Group')\n",
    "axs3.set_title('Deaths')\n",
    "axs3.legend(loc='best')\n",
    "\n",
    "plt.show()"
   ]
  },
  {
   "cell_type": "markdown",
   "metadata": {},
   "source": [
    "#### Comparison with Uncontrolled Case"
   ]
  },
  {
   "cell_type": "code",
   "execution_count": null,
   "metadata": {},
   "outputs": [],
   "source": [
    "fig4, axs4 = plt.subplots()\n",
    "\n",
    "I_t = axs4.plot(x,I_tot,marker ='', ls = 'solid', color = 'blue', label = 'Infections, Lockdown')\n",
    "J_t = axs4.plot(x,IB_tot,marker ='', ls = 'dashdot', color = 'red', label = 'Infections, No Lockdown')\n",
    "if(herd>0):\n",
    "    axs4.vlines(x=herd, ymin=0, ymax=0.4, color='c', linestyle='-', label = 'Herd Immunity')#, Lockdown')\n",
    "if(herd_base>0):\n",
    "    axs4.vlines(x=herd_base, ymin=0, ymax=0.4, color='maroon', linestyle=':', label = 'Herd Immunity, No Lockdown')\n",
    "axs4.set_xlabel('Time')\n",
    "axs4.set_ylabel('Proportion of Group')\n",
    "axs4.set_title('Population Dynamics')\n",
    "axs4.legend(loc='best')\n",
    "plt.show()"
   ]
  },
  {
   "cell_type": "code",
   "execution_count": null,
   "metadata": {},
   "outputs": [],
   "source": [
    "fig5, axs5 = plt.subplots()\n",
    "\n",
    "D_t = axs5.plot(x,D_tot,marker ='', ls = 'solid', color = 'black', label = 'Deaths, Lockdown')\n",
    "E_t = axs5.plot(x,DB_tot,marker ='', ls = 'dashdot', color = 'red', label = 'Deaths, No Lockdown')\n",
    "if(herd>0):\n",
    "    axs5.vlines(x=herd, ymin=0, ymax=np.max(DB_tot), color='c', linestyle='-', label = 'Herd Immunity, Lockdown')\n",
    "if(herd_base > 0):\n",
    "    axs5.vlines(x=herd_base, ymin=0, ymax=np.max(DB_tot), color='maroon', linestyle=':', label = 'Herd Immunity, No Lockdown')\n",
    "axs5.set_xlabel('Time')\n",
    "axs5.set_ylabel('Proportion of Group')\n",
    "axs5.set_title('Deaths')\n",
    "axs5.legend(loc='best')\n",
    "plt.show()"
   ]
  },
  {
   "cell_type": "markdown",
   "metadata": {},
   "source": [
    "Summary of setup and results:"
   ]
  },
  {
   "cell_type": "code",
   "execution_count": null,
   "metadata": {},
   "outputs": [],
   "source": [
    "txt1 = f'''Parameters: $\\\\chi = {chi}$, $r = {ir*365*100}\\\\%$, $\\\\nu  = {round(nu*365, 2)}$, \n",
    "$\\\\alpha_L = {alpha_L}$, $\\\\alpha_I = {alpha_I}$, $\\\\alpha_E = {alpha_E}$, $\\\\eta = {eta}$, F = {F}, wfh = {wfh}'''\n",
    "\n",
    "txt2 = f'''Avg. Lockdown (20-64): {round(avg_y, 4)} over {len_y} days, \n",
    "Avg. Lockdown (65+): {round(avg_o, 4)} over {len_o} days'''\n",
    "\n",
    "txt3 = f\"Output Loss: {round(op, 4)}\\\\%  \"\n",
    "\n",
    "txt4 = f'''Uncontrolled Total Deaths (All): {round(np.sum(deaths_base)*100, 4)}\\\\%,  \n",
    "Total Deaths (All): {round(np.sum(deaths)*100,4)}\\\\%,  \n",
    "COVID-19 Deaths (All): {round(np.sum(deaths_cov)*100,4)}\\\\%,  \n",
    "Total Deaths (20-64): {round(deaths[0]*100, 4)}\\\\%,  \n",
    "COVID-19 Deaths (20-64): {round(deaths_cov[0]*100, 4)}\\\\%,  \n",
    "Total Deaths (65+): {round(deaths[1]*100, 4)}\\\\%,  \n",
    "COVID-19 Deaths (65+): {round(deaths_cov[1]*100, 4)}\\\\%'''  \n",
    "\n",
    "display(Markdown(txt1))\n",
    "display(Markdown(txt2))\n",
    "display(Markdown(txt3))\n",
    "display(Markdown(txt4))"
   ]
  },
  {
   "cell_type": "code",
   "execution_count": null,
   "metadata": {},
   "outputs": [],
   "source": []
  }
 ],
 "metadata": {
  "kernelspec": {
   "display_name": "Python 3",
   "language": "python",
   "name": "python3"
  },
  "language_info": {
   "codemirror_mode": {
    "name": "ipython",
    "version": 3
   },
   "file_extension": ".py",
   "mimetype": "text/x-python",
   "name": "python",
   "nbconvert_exporter": "python",
   "pygments_lexer": "ipython3",
   "version": "3.8.2"
  }
 },
 "nbformat": 4,
 "nbformat_minor": 4
}
